{
 "cells": [
  {
   "cell_type": "markdown",
   "id": "c8bfd34f",
   "metadata": {},
   "source": [
    " # Data Science Tools and Ecosystem"
   ]
  },
  {
   "cell_type": "markdown",
   "id": "db1821ff",
   "metadata": {},
   "source": [
    "In this notebook, Data Science Tools and Ecosystem are summarized."
   ]
  },
  {
   "cell_type": "markdown",
   "id": "98a2e747",
   "metadata": {},
   "source": [
    "**Objectives:**\n",
    "\n",
    "+ List popular languages for Data Science\n",
    "+ Common used libraries in Data Science\n",
    "+ Data Science Tools\n",
    "+ Few arithmetic expressions\n"
   ]
  },
  {
   "cell_type": "markdown",
   "id": "f84b8cbe",
   "metadata": {},
   "source": [
    "Some of the popular languages that Data Scientists use are:\n",
    "\n",
    "    1. Python\n",
    "    2. R programming language\n",
    "    3. Scala\n",
    "    4. Java\n",
    "    5. C++\n",
    "    6. Julia "
   ]
  },
  {
   "cell_type": "markdown",
   "id": "f328cd87",
   "metadata": {},
   "source": [
    "Some of the commonly used libraries used by Data Scientists include:\n",
    "\n",
    "   1. Python - Pandas, NumPy, SciPy, and MatPotlib.\n",
    "   2. R - dplyr, stringr, ggplot, and  caret.\n",
    "   3. Scala - Shark, MLlib, GraphX, and Spark streaming.\n",
    "   4. Java - Java-ML, Apache MLlib, and Deeplearning4.\n",
    "   5. C++ - TensorFlow, MongoDB, and Caffe.\n",
    "   6. Julia - JuliaDB."
   ]
  },
  {
   "cell_type": "markdown",
   "id": "6da27479",
   "metadata": {},
   "source": [
    "|**Data Science Tools**|\n",
    "|---------------------|\n",
    "|Jupyter Notebooks|\n",
    "|JupyterLab|\n",
    "|Apache Zeppelin|\n",
    "|RStudio|\n",
    "|Spyder|"
   ]
  },
  {
   "cell_type": "markdown",
   "id": "cd888274",
   "metadata": {},
   "source": [
    "### Below are a few examples of evaluating arithmetic expressions in Python"
   ]
  },
  {
   "cell_type": "code",
   "execution_count": 2,
   "id": "2df02276",
   "metadata": {},
   "outputs": [
    {
     "data": {
      "text/plain": [
       "17"
      ]
     },
     "execution_count": 2,
     "metadata": {},
     "output_type": "execute_result"
    }
   ],
   "source": [
    "#This a simple arithmetic expression to mutiply then add integers\n",
    "(3*4)+5 "
   ]
  },
  {
   "cell_type": "code",
   "execution_count": 3,
   "id": "e3c5fa49",
   "metadata": {},
   "outputs": [
    {
     "data": {
      "text/plain": [
       "3.3333333333333335"
      ]
     },
     "execution_count": 3,
     "metadata": {},
     "output_type": "execute_result"
    }
   ],
   "source": [
    "#This will convert 200 minutes to hours by diving by 60\n",
    "200/60"
   ]
  },
  {
   "cell_type": "markdown",
   "id": "109099a9",
   "metadata": {},
   "source": [
    "## Author\n",
    "Siddhant Atman Padale"
   ]
  }
 ],
 "metadata": {
  "kernelspec": {
   "display_name": "Python 3 (ipykernel)",
   "language": "python",
   "name": "python3"
  },
  "language_info": {
   "codemirror_mode": {
    "name": "ipython",
    "version": 3
   },
   "file_extension": ".py",
   "mimetype": "text/x-python",
   "name": "python",
   "nbconvert_exporter": "python",
   "pygments_lexer": "ipython3",
   "version": "3.10.11"
  }
 },
 "nbformat": 4,
 "nbformat_minor": 5
}
